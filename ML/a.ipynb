{
 "cells": [
  {
   "cell_type": "code",
   "execution_count": null,
   "source": [
    "pip install scikit-learn"
   ],
   "outputs": [],
   "metadata": {}
  },
  {
   "cell_type": "code",
   "execution_count": null,
   "source": [],
   "outputs": [],
   "metadata": {}
  }
 ],
 "metadata": {
  "orig_nbformat": 4,
  "language_info": {
   "name": "python",
   "version": "3.8.10"
  },
  "kernelspec": {
   "name": "python3",
   "display_name": "Python 3.8.10 64-bit"
  },
  "interpreter": {
   "hash": "631ce9ff5e6211109a23f0d6cf16cf4864bea5b930902d7be01cf34d43487805"
  }
 },
 "nbformat": 4,
 "nbformat_minor": 2
}